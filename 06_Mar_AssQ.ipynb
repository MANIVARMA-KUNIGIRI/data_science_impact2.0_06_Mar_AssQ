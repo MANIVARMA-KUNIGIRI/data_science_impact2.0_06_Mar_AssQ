{
  "nbformat": 4,
  "nbformat_minor": 0,
  "metadata": {
    "colab": {
      "provenance": []
    },
    "kernelspec": {
      "name": "python3",
      "display_name": "Python 3"
    },
    "language_info": {
      "name": "python"
    }
  },
  "cells": [
    {
      "cell_type": "markdown",
      "source": [
        "Q1. What is Statistics?"
      ],
      "metadata": {
        "id": "w407maEpeGxg"
      }
    },
    {
      "cell_type": "markdown",
      "source": [
        "Statistics is the science of collecting, organising, and analyzing the data."
      ],
      "metadata": {
        "id": "eylLHj71eMFl"
      }
    },
    {
      "cell_type": "markdown",
      "source": [
        "Q2. Define the different types of statistics and give an example of when each type might be used."
      ],
      "metadata": {
        "id": "E_sYFodCeWeU"
      }
    },
    {
      "cell_type": "markdown",
      "source": [
        "We have two types of statistics:\n",
        "1. Descriptive statistics : It is used to summarize and describe the characteristics of the dataset.\n",
        "Example: Average height of students in a class.\n",
        "2. Inferencial statistics : It is used to make inferences about a population based on a sample.\n",
        "Example: Are the average height of the students in the classroom similar to what you expect in the entire college."
      ],
      "metadata": {
        "id": "3S0DwyoMeZM5"
      }
    },
    {
      "cell_type": "markdown",
      "source": [
        "Q3. What are the different types of data and how do they differ from each other? Provide an example of each type of data."
      ],
      "metadata": {
        "id": "-CTtvU-gfukH"
      }
    },
    {
      "cell_type": "markdown",
      "source": [
        "We have two differenti types of data:\n",
        "1. Quantitative data : It represents amount or numerical quatities. It is again divided into Discrete(such as number of plates, number of roses in a bokeh, etc.) and Continous data(such height, weight, marks out of 100, etc.).\n",
        "2. Qualitative data : It represents non-numerical qualities or characteristics of sample. It is again divided into nominal(such as gender, color, etc.) and ordinal data(such as good, bad, worst)."
      ],
      "metadata": {
        "id": "s2-mtvcCfxKf"
      }
    },
    {
      "cell_type": "markdown",
      "source": [
        "Q4. Categorise the following datasets with respect to quantitative and qualitative data types:\n",
        "\n",
        "(i) Grading in exam: A+, A, B+, B, C+, C, D, E\n",
        "\n",
        "(ii) Colour of mangoes: yellow, green, orange, red\n",
        "\n",
        "(iii) Height data of a class: [178.9, 179, 179.5, 176, 177.2, 178.3, 175.8,...]\n",
        "\n",
        "(iv) Number of mangoes exported by a farm: [500, 600, 478, 672, …]"
      ],
      "metadata": {
        "id": "9H1xSpDFgqEa"
      }
    },
    {
      "cell_type": "markdown",
      "source": [
        "(i) ordinal.\n",
        "(ii) nominal.\n",
        "(iii) continuous.\n",
        "(iv) discrete."
      ],
      "metadata": {
        "id": "4ZaiGqsdgtxO"
      }
    },
    {
      "cell_type": "markdown",
      "source": [
        "Q5. Explain the concept of levels of measurement and give an example of a variable for each level."
      ],
      "metadata": {
        "id": "yJbgJLyJiHsD"
      }
    },
    {
      "cell_type": "markdown",
      "source": [
        "The level of measurement determines the appropriate statistical tests that can be used and affects the interpretation of the results, so it is important to understand the level of measurement when analyzing the data.\n",
        "1. Nominal scale data(such as Gender).\n",
        "2. Ordinal scale data(such as qualification).\n",
        "3. Interval scale data(such as temperature).\n",
        "4. Ratio scale data(such as grades)."
      ],
      "metadata": {
        "id": "7OOC2xzciLTh"
      }
    },
    {
      "cell_type": "markdown",
      "source": [
        "Q6. Why is it important to understand the level of measurement when analyzing data? Provide an example to illustrate your answer.\n"
      ],
      "metadata": {
        "id": "SXGLnEQHja-N"
      }
    },
    {
      "cell_type": "markdown",
      "source": [
        "The level of measurement determines the appropriate statistical tests that can be used and affects the interpretation of the results, so it is important to understand the level of measurement when analyzing the data."
      ],
      "metadata": {
        "id": "a08yyjgHje8p"
      }
    },
    {
      "cell_type": "markdown",
      "source": [
        "Q7. How nominal data type is different from ordinal data type."
      ],
      "metadata": {
        "id": "MTmzv-SukDK9"
      }
    },
    {
      "cell_type": "markdown",
      "source": [
        "Ranking and ordering does not matters in nomial data, whereas it matters in ordinal data."
      ],
      "metadata": {
        "id": "R21tW2TEkG2u"
      }
    },
    {
      "cell_type": "markdown",
      "source": [
        "Q8. Which type of plot can be used to display data in terms of range?"
      ],
      "metadata": {
        "id": "5vFxOwI_kUBl"
      }
    },
    {
      "cell_type": "markdown",
      "source": [
        "Box plot."
      ],
      "metadata": {
        "id": "cvJmz5ZglAbU"
      }
    },
    {
      "cell_type": "markdown",
      "source": [
        "Q9. Describe the difference between descriptive and inferential statistics. Give an example of each type of statistics and explain how they are used.\n"
      ],
      "metadata": {
        "id": "DpvWQnbslCeu"
      }
    },
    {
      "cell_type": "markdown",
      "source": [
        "We have two types of statistics:\n",
        "\n",
        "Descriptive statistics : It is used to summarize and describe the characteristics of the dataset. Example: Average height of students in a class.\n",
        "Inferencial statistics : It is used to make inferences about a population based on a sample. Example: Are the average height of the students in the classroom similar to what you expect in the entire college."
      ],
      "metadata": {
        "id": "J35qPsC1lHHm"
      }
    },
    {
      "cell_type": "markdown",
      "source": [
        "Q10. What are some common measures of central tendency and variability used in statistics? Explain how each measure can be used to describe a dataset."
      ],
      "metadata": {
        "id": "_mp6ZR9slZ7E"
      }
    },
    {
      "cell_type": "markdown",
      "source": [
        "In statistics, measures of central tendency and variability are used to describe the distribution of a dataset. They provide insights into the typical or average value in the dataset (central tendency) and how spread out the values are around this central value (variability). Here are some common measures of central tendency and variability along with explanations of how they describe a dataset:\n",
        "\n",
        "### Measures of Central Tendency:\n",
        "\n",
        "1. **Mean:**\n",
        "   - **Calculation:** The mean is calculated by summing up all the values in the dataset and dividing by the number of values.\n",
        "   - **Use:** The mean represents the average value of the dataset. It is sensitive to extreme values (outliers) and provides a balanced measure of the dataset's central location.\n",
        "\n",
        "2. **Median:**\n",
        "   - **Calculation:** The median is the middle value of a dataset when it is sorted in ascending or descending order. If there is an odd number of observations, the median is the middle number. If there is an even number of observations, the median is the average of the two middle numbers.\n",
        "   - **Use:** The median is less sensitive to outliers than the mean and gives a better representation of the central value, especially when the data has extreme values.\n",
        "\n",
        "3. **Mode:**\n",
        "   - **Calculation:** The mode is the value(s) that appear most frequently in the dataset.\n",
        "   - **Use:** The mode indicates the most common value(s) in the dataset. It is particularly useful for categorical or discrete data.\n",
        "\n",
        "### Measures of Variability:\n",
        "\n",
        "1. **Range:**\n",
        "   - **Calculation:** Range is the difference between the maximum and minimum values in the dataset.\n",
        "   - **Use:** Range gives an idea of how spread out the dataset is. However, it is sensitive to outliers and might not accurately represent the variability in the presence of extreme values.\n",
        "\n",
        "2. **Variance:**\n",
        "   - **Calculation:** Variance measures how each number in the dataset varies from the mean. It is calculated by averaging the squared differences between each number and the mean of the dataset.\n",
        "   - **Use:** Variance provides a measure of the overall spread of the data points. Larger variance indicates greater variability, but it is in squared units, so it might not be very intuitive. Standard deviation, the square root of variance, is often used for a more interpretable measure.\n",
        "\n",
        "3. **Standard Deviation:**\n",
        "   - **Calculation:** Standard deviation is the square root of the variance. It represents the average deviation of each data point from the mean.\n",
        "   - **Use:** Standard deviation is a widely used measure of variability. It provides a more intuitive understanding of how spread out the data points are. Smaller standard deviation indicates less variability, while larger standard deviation indicates more variability.\n",
        "\n",
        "These measures, both of central tendency and variability, offer different insights into the dataset. Choosing the appropriate measure depends on the nature of the data and the specific characteristics of the dataset being analyzed."
      ],
      "metadata": {
        "id": "y7lrdyNaldIV"
      }
    }
  ]
}